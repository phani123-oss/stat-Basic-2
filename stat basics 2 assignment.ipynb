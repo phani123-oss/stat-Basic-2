{
 "cells": [
  {
   "cell_type": "markdown",
   "id": "492493f4-ce80-4c05-b75d-d52625b7890d",
   "metadata": {},
   "source": [
    "Q1. What are the three measures of central tendency?\n",
    "\n",
    "The three measures of central tendency are:\n",
    "1. Mean\n",
    "2. Median \n",
    "3. Mode\n",
    "\n",
    "Mean : Which gives the avergae of our numerice data.\n",
    "\n",
    "Median : It focusses on central element\n",
    "\n",
    "Mode : It gives the element has highest frequency."
   ]
  },
  {
   "cell_type": "markdown",
   "id": "b84c9df3-9fc2-445a-93de-68a2e52bee06",
   "metadata": {},
   "source": [
    "Q2. What is the difference between the mean, median, and mode? How are they used to measure the\n",
    "central tendency of a dataset?\n",
    "\n",
    "The mean is the average of the numbers.\n",
    "\n",
    "The median is the middle element in the list , when we arrange the data in ascending order.\n",
    "\n",
    "The mode which is highest occuring element.\n",
    "\n",
    "Measures of Central Tendency provide a summary measure that attempts to describe \n",
    "\n",
    "a whole set of data with a single value that represents the middle or centre of its distribution."
   ]
  },
  {
   "cell_type": "code",
   "execution_count": 7,
   "id": "c0e3e06b-979f-4102-a9df-25996f8032c8",
   "metadata": {},
   "outputs": [],
   "source": [
    "#Q3. Measure the three measures of central tendency for the given height data:\n",
    "#given,\n",
    "heights = [178,177,176,177,178.2,178,175,179,180,175,178.9,176.2,177,172.5,178,176.5]\n",
    "#importing numpy module \n",
    "import numpy as np"
   ]
  },
  {
   "cell_type": "code",
   "execution_count": 9,
   "id": "1012bcf7-7e07-44e2-9a72-4450f068eb9a",
   "metadata": {},
   "outputs": [
    {
     "data": {
      "text/plain": [
       "177.01875"
      ]
     },
     "execution_count": 9,
     "metadata": {},
     "output_type": "execute_result"
    }
   ],
   "source": [
    "#mean\n",
    "np.mean(heights)"
   ]
  },
  {
   "cell_type": "code",
   "execution_count": 10,
   "id": "ec247c87-644f-493f-81d8-9b8655a7f366",
   "metadata": {},
   "outputs": [
    {
     "data": {
      "text/plain": [
       "177.0"
      ]
     },
     "execution_count": 10,
     "metadata": {},
     "output_type": "execute_result"
    }
   ],
   "source": [
    "#median\n",
    "np.median(heights)"
   ]
  },
  {
   "cell_type": "code",
   "execution_count": 12,
   "id": "79b4456c-a8ed-4bd5-b655-3c32faf1ddb8",
   "metadata": {},
   "outputs": [
    {
     "name": "stderr",
     "output_type": "stream",
     "text": [
      "/tmp/ipykernel_84/3868282179.py:3: FutureWarning: Unlike other reduction functions (e.g. `skew`, `kurtosis`), the default behavior of `mode` typically preserves the axis it acts along. In SciPy 1.11.0, this behavior will change: the default value of `keepdims` will become False, the `axis` over which the statistic is taken will be eliminated, and the value None will no longer be accepted. Set `keepdims` to True or False to avoid this warning.\n",
      "  stats.mode(heights)\n"
     ]
    },
    {
     "data": {
      "text/plain": [
       "ModeResult(mode=array([177.]), count=array([3]))"
      ]
     },
     "execution_count": 12,
     "metadata": {},
     "output_type": "execute_result"
    }
   ],
   "source": [
    "#for mode importing scipy\n",
    "from scipy import stats\n",
    "stats.mode(heights)"
   ]
  },
  {
   "cell_type": "code",
   "execution_count": 14,
   "id": "c6a2f1a8-65b1-423d-b00b-aa3809da332d",
   "metadata": {},
   "outputs": [
    {
     "data": {
      "text/plain": [
       "1.7885814036548633"
      ]
     },
     "execution_count": 14,
     "metadata": {},
     "output_type": "execute_result"
    }
   ],
   "source": [
    "'''Q4. Find the standard deviation for the given data:\n",
    "[178,177,176,177,178.2,178,175,179,180,175,178.9,176.2,177,172.5,178,176.5]'''\n",
    "\n",
    "#given data\n",
    "data = [178,177,176,177,178.2,178,175,179,180,175,178.9,176.2,177,172.5,178,176.5]\n",
    "#using numpy calculating standard deviation\n",
    "np.std(data)"
   ]
  },
  {
   "cell_type": "markdown",
   "id": "087f3eb1-74e4-486b-ad76-07278e96194b",
   "metadata": {},
   "source": [
    "Q5. How are measures of dispersion such as range, variance, and standard deviation used to describe\n",
    "\n",
    "the spread of a dataset? Provide an example.\n",
    "\n",
    "The range of the data is given as the difference between the maximum and the minimum values \n",
    "\n",
    "of the observations in the data.\n",
    "\n",
    "The variance of the data is given by measuring the distance of the observed values from the \n",
    "\n",
    "mean of the distribution.\n",
    "\n",
    "In the calculation of variance, notice that the units of the variance and the unit of the observations \n",
    "\n",
    "are not the same. So, to remove this problem, we define standard deviation."
   ]
  },
  {
   "cell_type": "code",
   "execution_count": 21,
   "id": "f63ad131-5364-44ec-ba09-1d50bb46b577",
   "metadata": {},
   "outputs": [],
   "source": [
    "#examples\n",
    "x = [10, 14, 8, 10, 15, 14, 7]\n",
    "x1 = max(x)"
   ]
  },
  {
   "cell_type": "code",
   "execution_count": 22,
   "id": "48c946b6-4f9d-4826-88c9-35e5d664e74b",
   "metadata": {},
   "outputs": [],
   "source": [
    "x2 = min(x)"
   ]
  },
  {
   "cell_type": "code",
   "execution_count": 23,
   "id": "e02ba4e3-055f-4de2-84a1-558eeb7f7756",
   "metadata": {},
   "outputs": [
    {
     "data": {
      "text/plain": [
       "8"
      ]
     },
     "execution_count": 23,
     "metadata": {},
     "output_type": "execute_result"
    }
   ],
   "source": [
    "#range of x\n",
    "x1-x2"
   ]
  },
  {
   "cell_type": "code",
   "execution_count": 24,
   "id": "cba7fbf4-c4f2-4be6-80d5-ee916f13ce1b",
   "metadata": {},
   "outputs": [
    {
     "data": {
      "text/plain": [
       "8.693877551020408"
      ]
     },
     "execution_count": 24,
     "metadata": {},
     "output_type": "execute_result"
    }
   ],
   "source": [
    "#variance using numpy\n",
    "np.var(x)"
   ]
  },
  {
   "cell_type": "code",
   "execution_count": 25,
   "id": "9b0727e2-43f8-4a64-9be5-02f6f17f4e77",
   "metadata": {},
   "outputs": [
    {
     "data": {
      "text/plain": [
       "2.9485382057928993"
      ]
     },
     "execution_count": 25,
     "metadata": {},
     "output_type": "execute_result"
    }
   ],
   "source": [
    "#std using numpy\n",
    "np.std(x)"
   ]
  },
  {
   "cell_type": "markdown",
   "id": "bb49ca0b-1159-4b99-bf7d-aeac8e9fabb2",
   "metadata": {},
   "source": [
    "Q6. What is a Venn diagram?\n",
    "\n",
    "A Venn diagram uses overlapping circles or other shapes to illustrate the \n",
    "\n",
    "logical relationships between two or more sets of items"
   ]
  },
  {
   "cell_type": "markdown",
   "id": "5a093a51-4f65-46c1-8e98-36529492bbc5",
   "metadata": {},
   "source": [
    "Q7. For the two given sets A = (2,3,4,5,6,7) & B = (0,2,6,8,10). Find:\n",
    "\n",
    "(i) A B\n",
    "\n",
    "(ii) A ⋃ B\n",
    "\n",
    "The intersection of A and B is {2}\n",
    "\n",
    "The union of A and B is {0,2,3,4,5,6,7,8,10}"
   ]
  },
  {
   "cell_type": "markdown",
   "id": "0f8308c1-0e61-426d-bd0f-a2a1d0015814",
   "metadata": {},
   "source": [
    "Q8. What do you understand about skewness in data?\n",
    "\n",
    "Measurement of asymmetry in data is called skewness.\n",
    "\n",
    "we have left skewness and right skewness .\n",
    "\n",
    "In left distribution bends towards left side and viseversa.\n",
    "\n",
    "we have no skewness in symmetrical distribution."
   ]
  },
  {
   "cell_type": "markdown",
   "id": "30599389-e01c-4c65-97ef-65eee2c26034",
   "metadata": {},
   "source": [
    "Q9. If a data is right skewed then what will be the position of median with respect to mean?\n",
    "\n",
    "In right skewed mean>median>mode"
   ]
  },
  {
   "cell_type": "markdown",
   "id": "b685de02-7f89-46b1-8e1f-6ab9d69a8a5e",
   "metadata": {},
   "source": [
    "Q10. Explain the difference between covariance and correlation. How are these measures used in\n",
    "statistical analysis?\n",
    "\n",
    "Both covariance and correlation measure the relationship and the dependency between two variables. Covariance indicates the direction of the linear relationship between variables. Correlation measures both the strength and direction of the linear relationship between two variables."
   ]
  },
  {
   "cell_type": "code",
   "execution_count": 26,
   "id": "0f861fef-489e-4e42-8b4a-b6200836c31f",
   "metadata": {},
   "outputs": [
    {
     "data": {
      "text/plain": [
       "7.833333333333333"
      ]
     },
     "execution_count": 26,
     "metadata": {},
     "output_type": "execute_result"
    }
   ],
   "source": [
    "#Q11. What is the formula for calculating the sample mean? Provide an example calculation for a\n",
    "#dataset.\n",
    "#sample mean formula [sum(data)/no.of values in data]\n",
    "\n",
    "data = [1,2,3,4,5,6,7,8,9,3,2,44]\n",
    "#calculating mean using numpy\n",
    "np.mean(data)"
   ]
  },
  {
   "cell_type": "markdown",
   "id": "32eab048-8ffc-449e-a92e-d627fc9b190d",
   "metadata": {},
   "source": [
    "Q12. For a normal distribution data what is the relationship between its measure of \n",
    "\n",
    "central tendency?\n",
    "\n",
    "The measures of central tendency will be same \n",
    "\n",
    "i.e., mean=mode=median"
   ]
  },
  {
   "cell_type": "markdown",
   "id": "e1d0940e-9576-48ab-8c18-006491302006",
   "metadata": {},
   "source": [
    "Q14. How do outliers affect measures of central tendency and dispersion? Provide an example.\n",
    "\n",
    "Mean increases with the high outlier and decreases with the low outlier. \n",
    "\n",
    "Consider a small dataset having 5 values. The values in ascending order are 10,13,13,17,100.\n",
    "\n",
    "From the above example, we can interpret that the mean is the only measure of central tendency affected by outliers."
   ]
  },
  {
   "cell_type": "markdown",
   "id": "78c0f876-7294-42d9-aa40-2f520a62e380",
   "metadata": {},
   "source": [
    "Q13. How is covariance different from correlation?\n",
    "\n",
    "Both covariance and correlation measure the relationship and the dependency between two variables.\n",
    "\n",
    "Covariance indicates the direction of the linear relationship between variables. Correlation measures \n",
    "\n",
    "both the strength and direction of the linear relationship between two variables"
   ]
  },
  {
   "cell_type": "code",
   "execution_count": null,
   "id": "2b42a979-f793-4394-a018-de4603136f01",
   "metadata": {},
   "outputs": [],
   "source": []
  }
 ],
 "metadata": {
  "kernelspec": {
   "display_name": "Python 3 (ipykernel)",
   "language": "python",
   "name": "python3"
  },
  "language_info": {
   "codemirror_mode": {
    "name": "ipython",
    "version": 3
   },
   "file_extension": ".py",
   "mimetype": "text/x-python",
   "name": "python",
   "nbconvert_exporter": "python",
   "pygments_lexer": "ipython3",
   "version": "3.10.8"
  }
 },
 "nbformat": 4,
 "nbformat_minor": 5
}
